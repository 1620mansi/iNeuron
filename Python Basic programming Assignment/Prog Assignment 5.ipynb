{
 "cells": [
  {
   "cell_type": "markdown",
   "metadata": {},
   "source": [
    "1. Write a Python Program to Find LCM?"
   ]
  },
  {
   "cell_type": "code",
   "execution_count": 4,
   "metadata": {},
   "outputs": [
    {
     "name": "stdout",
     "output_type": "stream",
     "text": [
      "Enter first number: 98\n",
      "Enter second number: 56\n"
     ]
    },
    {
     "data": {
      "text/plain": [
       "392.0"
      ]
     },
     "execution_count": 4,
     "metadata": {},
     "output_type": "execute_result"
    }
   ],
   "source": [
    "def gcd(a,b):\n",
    "    if b == 0:\n",
    "        return a\n",
    "    else:\n",
    "        return gcd(b,a%b)\n",
    "def lcm(a,b):\n",
    "    return a*b/gcd(a,b)\n",
    "a = int(input(\"Enter first number: \"))\n",
    "b = int(input(\"Enter second number: \"))\n",
    "lcm(a,b)"
   ]
  },
  {
   "cell_type": "markdown",
   "metadata": {},
   "source": [
    "2. Write a Python Program to Find HCF?"
   ]
  },
  {
   "cell_type": "code",
   "execution_count": 5,
   "metadata": {},
   "outputs": [
    {
     "name": "stdout",
     "output_type": "stream",
     "text": [
      "Enter first number: 98\n",
      "Enter second number: 56\n"
     ]
    },
    {
     "data": {
      "text/plain": [
       "14"
      ]
     },
     "execution_count": 5,
     "metadata": {},
     "output_type": "execute_result"
    }
   ],
   "source": [
    "def gcd(a,b):\n",
    "    if b == 0:\n",
    "        return a\n",
    "    return gcd(b,a%b)\n",
    "a = int(input(\"Enter first number: \"))\n",
    "b = int(input(\"Enter second number: \"))\n",
    "gcd(a,b)"
   ]
  },
  {
   "cell_type": "markdown",
   "metadata": {},
   "source": [
    "3. Write a Python Program to Convert Decimal to Binary, Octal and Hexadecimal?"
   ]
  },
  {
   "cell_type": "code",
   "execution_count": 16,
   "metadata": {},
   "outputs": [
    {
     "name": "stdout",
     "output_type": "stream",
     "text": [
      "24\n",
      "Decimal to binary :  11000\n",
      "24\n",
      "Decimal to octal :  0o30\n",
      "24\n",
      "Decimal to hexadecimal :  0x18\n"
     ]
    }
   ],
   "source": [
    "n = int(input())\n",
    "ans = ''\n",
    "while(n>0):\n",
    "    ans = str(n%2) + ans\n",
    "    n = n//2\n",
    "print(\"Decimal to binary : \", ans)\n",
    "n = int(input())\n",
    "ans1 = oct(n)\n",
    "print(\"Decimal to octal : \", ans1)\n",
    "n = int(input())\n",
    "ans2 = hex(n)\n",
    "print(\"Decimal to hexadecimal : \", ans2)\n"
   ]
  },
  {
   "cell_type": "markdown",
   "metadata": {},
   "source": [
    "4. Write a Python Program To Find ASCII value of a character?"
   ]
  },
  {
   "cell_type": "code",
   "execution_count": 17,
   "metadata": {},
   "outputs": [
    {
     "name": "stdout",
     "output_type": "stream",
     "text": [
      "Enter a character: a\n",
      "AscII value of given character is :  97\n"
     ]
    }
   ],
   "source": [
    "s = input(\"Enter a character: \")\n",
    "print(\"AscII value of given character is : \", ord(s))"
   ]
  },
  {
   "cell_type": "markdown",
   "metadata": {},
   "source": [
    "5. Write a Python Program to Make a Simple Calculator with 4 basic mathematical operations?"
   ]
  },
  {
   "cell_type": "code",
   "execution_count": 20,
   "metadata": {},
   "outputs": [
    {
     "name": "stdout",
     "output_type": "stream",
     "text": [
      "Enter first number: 6\n",
      "Enter second number: 7\n",
      " Choose Operator\n",
      "            1. '+'\n",
      "            2. '-'\n",
      "            3. '*'\n",
      "            4. '/'\n",
      "2\n",
      "Ans:  -1\n"
     ]
    }
   ],
   "source": [
    "a = int(input(\"Enter first number: \"))\n",
    "b = int(input(\"Enter second number: \"))\n",
    "s = int(input(''' Choose Operator\n",
    "            1. '+'\n",
    "            2. '-'\n",
    "            3. '*'\n",
    "            4. '/'\n",
    "'''))\n",
    "if s == 1:\n",
    "    print(\"Ans: \",a+b)\n",
    "elif s == 2:\n",
    "    print(\"Ans: \",a-b)\n",
    "elif s == 3:\n",
    "    print(\"Ans: \",a*b)\n",
    "elif s== 4:\n",
    "    print(\"Ans: \",a/b)"
   ]
  },
  {
   "cell_type": "code",
   "execution_count": null,
   "metadata": {},
   "outputs": [],
   "source": []
  }
 ],
 "metadata": {
  "kernelspec": {
   "display_name": "Python 3",
   "language": "python",
   "name": "python3"
  },
  "language_info": {
   "codemirror_mode": {
    "name": "ipython",
    "version": 3
   },
   "file_extension": ".py",
   "mimetype": "text/x-python",
   "name": "python",
   "nbconvert_exporter": "python",
   "pygments_lexer": "ipython3",
   "version": "3.7.4"
  }
 },
 "nbformat": 4,
 "nbformat_minor": 2
}
