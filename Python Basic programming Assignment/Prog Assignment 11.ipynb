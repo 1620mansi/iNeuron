{
 "cells": [
  {
   "cell_type": "markdown",
   "metadata": {},
   "source": [
    "1. Write a Python program to find words which are greater than given length k?"
   ]
  },
  {
   "cell_type": "code",
   "execution_count": 6,
   "metadata": {},
   "outputs": [
    {
     "name": "stdout",
     "output_type": "stream",
     "text": [
      "Mansi hggb ytiuy klolu gfgyutgiu "
     ]
    }
   ],
   "source": [
    "s = ['I', 'am', 'Mansi', 'hggb', 'ytiuy', 'sr', 'klolu', 'vnb', 'gfgyutgiu']\n",
    "k  = 3\n",
    "for i in s:\n",
    "    \n",
    "    if len(i) > k:\n",
    "        print(i,end=\" \")\n",
    "    else:\n",
    "        pass"
   ]
  },
  {
   "cell_type": "markdown",
   "metadata": {},
   "source": [
    "2. Write a Python program for removing i-th character from a string?"
   ]
  },
  {
   "cell_type": "code",
   "execution_count": 9,
   "metadata": {},
   "outputs": [
    {
     "name": "stdout",
     "output_type": "stream",
     "text": [
      "hgtuyijkn,mnm\n"
     ]
    }
   ],
   "source": [
    "s = \"hgtiuyijkn,mnm\"\n",
    "k = 3\n",
    "print(s[:k]+s[k+1:])\n",
    "    \n",
    "    "
   ]
  },
  {
   "cell_type": "markdown",
   "metadata": {},
   "source": [
    "3. Write a Python program to split and join a string?"
   ]
  },
  {
   "cell_type": "code",
   "execution_count": 1,
   "metadata": {},
   "outputs": [
    {
     "name": "stdout",
     "output_type": "stream",
     "text": [
      "h_j_k_j_k_,_h_g_k_,_6_7_,_f_c_g_,_s_t_r\n",
      "['hjkjk', 'hgk', '67', 'fcg', 'str']\n"
     ]
    }
   ],
   "source": [
    "s = \"hjkjk,hgk,67,fcg,str\"\n",
    "s1 = '_'.join(s)\n",
    "print(s1)\n",
    "print(s.split(','))"
   ]
  },
  {
   "cell_type": "markdown",
   "metadata": {},
   "source": [
    "4. Write a Python to check if a given string is binary string or not?"
   ]
  },
  {
   "cell_type": "code",
   "execution_count": 8,
   "metadata": {},
   "outputs": [
    {
     "name": "stdout",
     "output_type": "stream",
     "text": [
      "10100001\n",
      "Yes\n"
     ]
    }
   ],
   "source": [
    "s = input()\n",
    "lst = []\n",
    "for i in s:\n",
    "    if i == '0' or i == '1':\n",
    "        lst.append('Yes')\n",
    "    else:\n",
    "        lst.append(\"No\")\n",
    "#print(lst)\n",
    "if 'No' in lst:\n",
    "    print(\"NO\")\n",
    "else:\n",
    "    print(\"Yes\")\n",
    "    \n",
    "    "
   ]
  },
  {
   "cell_type": "markdown",
   "metadata": {},
   "source": [
    "5. Write a Python program to find uncommon words from two Strings?"
   ]
  },
  {
   "cell_type": "code",
   "execution_count": 9,
   "metadata": {},
   "outputs": [
    {
     "name": "stdout",
     "output_type": "stream",
     "text": [
      "M n s "
     ]
    }
   ],
   "source": [
    "s1 = 'Mansi'\n",
    "s2 = 'Kumari'\n",
    "for i in s1:\n",
    "    if i not in s2:\n",
    "        print(i,end=\" \")\n"
   ]
  },
  {
   "cell_type": "markdown",
   "metadata": {},
   "source": [
    "6. Write a Python to find all duplicate characters in string?"
   ]
  },
  {
   "cell_type": "code",
   "execution_count": 10,
   "metadata": {},
   "outputs": [
    {
     "name": "stdout",
     "output_type": "stream",
     "text": [
      "{'i', 'u', 'y', 'a', 'b'}\n"
     ]
    }
   ],
   "source": [
    "s = 'aabbytiuyoiub'\n",
    "lst = []\n",
    "for i in s:\n",
    "    if s.count(i) > 1:\n",
    "        lst.append(i)\n",
    "print(set(lst))"
   ]
  },
  {
   "cell_type": "markdown",
   "metadata": {},
   "source": [
    "7. Write a Python Program to check if a string contains any special character?"
   ]
  },
  {
   "cell_type": "code",
   "execution_count": 17,
   "metadata": {},
   "outputs": [
    {
     "name": "stdout",
     "output_type": "stream",
     "text": [
      "@yjtoiu\n",
      "Yes\n"
     ]
    }
   ],
   "source": [
    "s = input()\n",
    "count = 0\n",
    "for i in s:\n",
    "    if (i == '!' or i == '@' or i =='#' or i =='$' or i == '%' or i == '^' or i == '&'):\n",
    "        count += 1\n",
    "if count >=1:\n",
    "    print(\"Yes\")\n",
    "else:\n",
    "    print(\"No\")"
   ]
  }
 ],
 "metadata": {
  "kernelspec": {
   "display_name": "Python 3",
   "language": "python",
   "name": "python3"
  },
  "language_info": {
   "codemirror_mode": {
    "name": "ipython",
    "version": 3
   },
   "file_extension": ".py",
   "mimetype": "text/x-python",
   "name": "python",
   "nbconvert_exporter": "python",
   "pygments_lexer": "ipython3",
   "version": "3.7.4"
  }
 },
 "nbformat": 4,
 "nbformat_minor": 2
}
