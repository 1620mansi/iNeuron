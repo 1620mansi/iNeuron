{
 "cells": [
  {
   "cell_type": "markdown",
   "metadata": {},
   "source": [
    "1. Write a Python program to check if the given number is a Disarium Number?"
   ]
  },
  {
   "cell_type": "code",
   "execution_count": 2,
   "metadata": {},
   "outputs": [
    {
     "name": "stdout",
     "output_type": "stream",
     "text": [
      "Yes\n"
     ]
    }
   ],
   "source": [
    "def disarium(n):\n",
    "    l = len(str(n))\n",
    "    ans = 0\n",
    "    x = n\n",
    "    while(x != 0):\n",
    "        rem = x%10\n",
    "        ans = ans + rem**l\n",
    "        l -= 1\n",
    "        x = x//10\n",
    "    if ans == n:\n",
    "        return 1\n",
    "    else:\n",
    "        return 0\n",
    "        \n",
    "n = 135\n",
    "if disarium(n) == 1:\n",
    "    print(\"Yes\")\n",
    "else:\n",
    "    print(\"No\")"
   ]
  },
  {
   "cell_type": "markdown",
   "metadata": {},
   "source": [
    "2. Write a Python program to print all disarium numbers between 1 to 100?"
   ]
  },
  {
   "cell_type": "code",
   "execution_count": 3,
   "metadata": {},
   "outputs": [
    {
     "name": "stdout",
     "output_type": "stream",
     "text": [
      "1 2 3 4 5 6 7 8 9 89 "
     ]
    }
   ],
   "source": [
    "for i in range(1,101):\n",
    "    l = len(str(i))\n",
    "    ans = 0\n",
    "    x = i\n",
    "    while(x != 0):\n",
    "        rem = x%10\n",
    "        ans = ans + rem**l\n",
    "        l -= 1\n",
    "        x = x//10\n",
    "    if ans == i:\n",
    "        print(i,end=\" \")\n",
    "    else:\n",
    "        pass\n",
    "    "
   ]
  },
  {
   "cell_type": "markdown",
   "metadata": {},
   "source": [
    "3. Write a Python program to check if the given number is Happy Number?"
   ]
  },
  {
   "cell_type": "code",
   "execution_count": 4,
   "metadata": {},
   "outputs": [
    {
     "name": "stdout",
     "output_type": "stream",
     "text": [
      "Yes\n"
     ]
    }
   ],
   "source": [
    "def happynumber(n):\n",
    "    Sum = 0\n",
    "    while(n):\n",
    "        rem = n%10\n",
    "        Sum += rem*rem\n",
    "        n = n//10\n",
    "    return Sum\n",
    "def ishappynumber(n):\n",
    "    slow = n\n",
    "    fast = n\n",
    "    while(True):\n",
    "        slow = happynumber(slow)\n",
    "        fast = happynumber(happynumber(fast))\n",
    "        if slow!= fast:\n",
    "            continue\n",
    "        else:\n",
    "            break\n",
    "    return slow == 1\n",
    "        \n",
    "        \n",
    "n = 13\n",
    "if ishappynumber(n):\n",
    "    print(\"Yes\")\n",
    "else:\n",
    "    print(\"No\")\n",
    "\n",
    "        \n",
    "        \n",
    "        "
   ]
  },
  {
   "cell_type": "markdown",
   "metadata": {},
   "source": [
    "4. Write a Python program to print all happy numbers between 1 and 100?"
   ]
  },
  {
   "cell_type": "code",
   "execution_count": 7,
   "metadata": {},
   "outputs": [
    {
     "name": "stdout",
     "output_type": "stream",
     "text": [
      "1 7 10 13 19 23 28 31 32 44 49 68 70 79 82 86 91 94 97 100 "
     ]
    }
   ],
   "source": [
    "def happynumber(n):\n",
    "    Sum = 0\n",
    "    while(n):\n",
    "        rem = n%10\n",
    "        Sum += rem*rem\n",
    "        n = n//10\n",
    "    return Sum\n",
    "for i in range(1, 101):  \n",
    "    ans = i;  \n",
    "      \n",
    "    #Happy number always ends with 1 and   \n",
    "    #unhappy number ends in a cycle of repeating numbers which contains 4  \n",
    "    while(ans != 1 and ans != 4):  \n",
    "        ans = happynumber(ans);  \n",
    "      \n",
    "    if(ans == 1):  \n",
    "        print(i,end=\" \")\n",
    "    "
   ]
  },
  {
   "cell_type": "markdown",
   "metadata": {},
   "source": [
    "5. Write a Python program to determine whether the given number is a Harshad Number?"
   ]
  },
  {
   "cell_type": "code",
   "execution_count": 8,
   "metadata": {},
   "outputs": [
    {
     "name": "stdout",
     "output_type": "stream",
     "text": [
      "156\n",
      "Yes\n"
     ]
    }
   ],
   "source": [
    "n = int(input())\n",
    "Sum = 0\n",
    "while(n):\n",
    "    rem = n%10\n",
    "    Sum += rem\n",
    "    n = n//10\n",
    "if n % Sum == 0:\n",
    "    print(\"Yes\")\n",
    "else:\n",
    "    print(\"No\")"
   ]
  },
  {
   "cell_type": "markdown",
   "metadata": {},
   "source": [
    "6. Write a Python program to print all pronic numbers between 1 and 100?"
   ]
  },
  {
   "cell_type": "code",
   "execution_count": 16,
   "metadata": {},
   "outputs": [
    {
     "name": "stdout",
     "output_type": "stream",
     "text": [
      "Pronic numbers between 1 and 100: \n",
      "2 6 12 20 30 42 56 72 90 "
     ]
    }
   ],
   "source": [
    "def isPronic(n):  \n",
    "    flag = False;  \n",
    "    for j in range(1, n+1):  \n",
    "        #Checks for pronic number by multiplying consecutive numbers  \n",
    "        if((j*(j+1)) == n):  \n",
    "            flag = True;  \n",
    "            break;  \n",
    "    return flag;  \n",
    "   \n",
    "#Displays pronic numbers between 1 and 100  \n",
    "print(\"Pronic numbers between 1 and 100: \");  \n",
    "for i in range(1, 101):  \n",
    "    if(isPronic(i)):  \n",
    "        print(i,end=\" \") "
   ]
  }
 ],
 "metadata": {
  "kernelspec": {
   "display_name": "Python 3",
   "language": "python",
   "name": "python3"
  },
  "language_info": {
   "codemirror_mode": {
    "name": "ipython",
    "version": 3
   },
   "file_extension": ".py",
   "mimetype": "text/x-python",
   "name": "python",
   "nbconvert_exporter": "python",
   "pygments_lexer": "ipython3",
   "version": "3.7.4"
  }
 },
 "nbformat": 4,
 "nbformat_minor": 2
}
